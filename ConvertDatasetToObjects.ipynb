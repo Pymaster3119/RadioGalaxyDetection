{
 "cells": [
  {
   "cell_type": "code",
   "execution_count": 27,
   "metadata": {},
   "outputs": [],
   "source": [
    "import json\n",
    "import os\n",
    "from PIL import Image\n",
    "import numpy as np\n",
    "import pickle\n",
    "from collections import namedtuple\n",
    "import cv2"
   ]
  },
  {
   "cell_type": "markdown",
   "metadata": {},
   "source": [
    "**Define a namedtuple containing data for each image**"
   ]
  },
  {
   "cell_type": "code",
   "execution_count": 28,
   "metadata": {},
   "outputs": [],
   "source": [
    "annotationclass = namedtuple('annotationclass', ['bbox','category','keypoints','segmentation'])\n",
    "imageclass = namedtuple('imageclass', ['image', 'normalized', 'annotations', 'mask'])"
   ]
  },
  {
   "cell_type": "markdown",
   "metadata": {},
   "source": [
    "**Convert all the data**"
   ]
  },
  {
   "cell_type": "code",
   "execution_count": 29,
   "metadata": {},
   "outputs": [],
   "source": [
    "def load_image_pixels(image_dir, image_file):\n",
    "    img_path = os.path.join(image_dir, image_file)\n",
    "    with Image.open(img_path) as img:\n",
    "        return np.array(img)"
   ]
  },
  {
   "cell_type": "code",
   "execution_count": 30,
   "metadata": {},
   "outputs": [],
   "source": [
    "json_files = [\"RadioGalaxyNET_Dataset/data/RadioGalaxyNET/annotations/train.json\",\"RadioGalaxyNET_Dataset/data/RadioGalaxyNET/annotations/test.json\",\"RadioGalaxyNET_Dataset/data/RadioGalaxyNET/annotations/val.json\"]\n",
    "images_dirs = [\"RadioGalaxyNET_Dataset/data/RadioGalaxyNET/train\",\"RadioGalaxyNET_Dataset/data/RadioGalaxyNET/test\",\"RadioGalaxyNET_Dataset/data/RadioGalaxyNET/val\"]\n",
    "output_files = [\"train.obj\",\"test.obj\",\"val.obj\"]"
   ]
  },
  {
   "cell_type": "code",
   "execution_count": 31,
   "metadata": {},
   "outputs": [
    {
     "name": "stdout",
     "output_type": "stream",
     "text": [
      "Mean size: 1470.782514450867\n",
      "Standard deviation: 2245.41545480881\n",
      "Min size: 96\n",
      "Max size: 49621\n",
      "Mode size: 600\n",
      "Number of images greater than 4,096: 210\n",
      "Number of images less than 4,096: 3942\n",
      "Maximum width: 292\n",
      "Maximum height: 347\n"
     ]
    },
    {
     "data": {
      "image/png": "[encoded data removed]",
      "text/plain": [
       "<Figure size 640x480 with 1 Axes>"
      ]
     },
     "metadata": {},
     "output_type": "display_data"
    }
   ],
   "source": [
    "sizes = []\n",
    "max_width = 0\n",
    "max_height = 0\n",
    "for jsonfile, folder, output in zip(json_files, images_dirs, output_files):\n",
    "    with open(jsonfile, \"r\") as txt:\n",
    "        json_data = json.load(txt)\n",
    "        \n",
    "    # Load images, annotations, and categories\n",
    "    images = json_data.get('images', [])\n",
    "    annotations = json_data.get('annotations', [])\n",
    "    categories = {cat['id']: cat['name'] for cat in json_data.get('categories', [])}\n",
    "    \n",
    "    # Load annotations as annotation objects\n",
    "    annotations_by_image = {}\n",
    "    for annotation in annotations:\n",
    "        image_id = annotation['image_id']\n",
    "        bbox = annotation['bbox']\n",
    "        category = annotation['category_id']\n",
    "        keypoints = annotation.get('keypoints', [])\n",
    "        segmentation = annotation.get('segmentation', [])\n",
    "        ann = annotationclass(bbox=bbox, category=category, keypoints=keypoints, segmentation=segmentation)\n",
    "        annotations_by_image.setdefault(image_id, []).append(ann)\n",
    "\n",
    "    # Load images (for real this time)\n",
    "    imgobjs = []\n",
    "    for image in images:\n",
    "        image_id = image['id']\n",
    "        file_name = image['file_name']\n",
    "        annotations = annotations_by_image.get(image_id, [])\n",
    "        pixel_data = load_image_pixels(folder, file_name)\n",
    "        if pixel_data is not None:\n",
    "            # Assemble the image object\n",
    "            mask = np.zeros((450,450,len(categories)), dtype=np.uint8)\n",
    "            for ann in annotations:\n",
    "                x, y, w, h = map(int, ann.bbox)\n",
    "                if w > max_width:\n",
    "                    max_width = w\n",
    "                if h > max_height:\n",
    "                    max_height = h\n",
    "                area = w * h\n",
    "                sizes.append(area)\n",
    "                # mask[y:y+h, x:x+w] = 1\n",
    "            # img = imageclass(image=pixel_data, normalized=pixel_data/255, annotations=annotations, mask=mask)\n",
    "            # imgobjs.append(img)\n",
    "\n",
    "    # Save the image objects\n",
    "    # with open(output, \"wb\") as f:\n",
    "    #     pickle.dump(imgobjs, f)\n",
    "\n",
    "# Plot a histogram of the sizes\n",
    "import matplotlib.pyplot as plt\n",
    "plt.hist(sizes, bins=50000, color='blue', alpha=0.7)\n",
    "plt.xlabel('Size')\n",
    "\n",
    "# Print statistics of the sizes\n",
    "print(\"Mean size:\", np.mean(sizes))\n",
    "print(\"Standard deviation:\", np.std(sizes))\n",
    "print(\"Min size:\", np.min(sizes))\n",
    "print(\"Max size:\", np.max(sizes))\n",
    "print(\"Mode size:\", np.bincount(sizes).argmax())\n",
    "print(\"Number of images greater than 4,096:\", len([s for s in sizes if s > 4096]))\n",
    "print(\"Number of images less than 4,096:\", len([s for s in sizes if s < 4096]))\n",
    "print(\"Maximum width:\", max_width)\n",
    "print(\"Maximum height:\", max_height)"
   ]
  }
 ],
 "metadata": {
  "kernelspec": {
   "display_name": "gw",
   "language": "python",
   "name": "python3"
  },
  "language_info": {
   "codemirror_mode": {
    "name": "ipython",
    "version": 3
   },
   "file_extension": ".py",
   "mimetype": "text/x-python",
   "name": "python",
   "nbconvert_exporter": "python",
   "pygments_lexer": "ipython3",
   "version": "3.10.16"
  }
 },
 "nbformat": 4,
 "nbformat_minor": 2
}
