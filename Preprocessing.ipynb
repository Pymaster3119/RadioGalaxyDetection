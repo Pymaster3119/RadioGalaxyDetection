{
 "cells": [
  {
   "cell_type": "code",
   "execution_count": 1,
   "metadata": {},
   "outputs": [],
   "source": [
    "import pickle\n",
    "import numpy as np"
   ]
  },
  {
   "cell_type": "markdown",
   "metadata": {},
   "source": [
    "**Load Data**"
   ]
  },
  {
   "cell_type": "code",
   "execution_count": 2,
   "metadata": {},
   "outputs": [
    {
     "name": "stdout",
     "output_type": "stream",
     "text": [
      "Train:  255 0\n",
      "Test:  255 0\n",
      "Val:  255 0\n"
     ]
    }
   ],
   "source": [
    "with open(\"DatasetObjects/Train/X.obj\", \"rb\") as txt:\n",
    "    train_imgs = pickle.loads(txt.read())\n",
    "\n",
    "with open(\"DatasetObjects/Test/X.obj\", \"rb\") as txt:\n",
    "    test_imgs = pickle.loads(txt.read())\n",
    "\n",
    "with open(\"DatasetObjects/Val/X.obj\", \"rb\") as txt:\n",
    "    val_imgs = pickle.loads(txt.read())\n",
    "\n",
    "print(\"Train: \", np.max(train_imgs[:][:][:][2]), np.min(train_imgs[:][:][:][2]))\n",
    "print(\"Test: \", np.max(test_imgs[:][:][:][2]), np.min(test_imgs[:][:][:][2]))\n",
    "print(\"Val: \", np.max(val_imgs[:][:][:][2]), np.min(val_imgs[:][:][:][2]))"
   ]
  },
  {
   "cell_type": "markdown",
   "metadata": {},
   "source": [
    "**Normalize**"
   ]
  },
  {
   "cell_type": "code",
   "execution_count": 3,
   "metadata": {},
   "outputs": [],
   "source": [
    "train_imgs_normalized = []\n",
    "for image in train_imgs:\n",
    "    train_imgs_normalized.append(image / 255)\n",
    "\n",
    "test_imgs_normalized = []\n",
    "for image in test_imgs:\n",
    "    test_imgs_normalized.append(image / 255)\n",
    "\n",
    "val_imgs_normalized = []\n",
    "for image in val_imgs:\n",
    "    val_imgs_normalized.append(image / 255)"
   ]
  },
  {
   "cell_type": "markdown",
   "metadata": {},
   "source": [
    "**Resave this data**"
   ]
  },
  {
   "cell_type": "code",
   "execution_count": 4,
   "metadata": {},
   "outputs": [],
   "source": [
    "with open(\"DatasetObjects/Train/X_preprocessed.obj\", \"wb\") as txt:\n",
    "    txt.write(pickle.dumps(train_imgs_normalized))\n",
    "\n",
    "with open(\"DatasetObjects/Test/X_preprocessed.obj\", \"wb\") as txt:\n",
    "    txt.write(pickle.dumps(test_imgs_normalized))\n",
    "\n",
    "with open(\"DatasetObjects/Val/X_preprocessed.obj\", \"wb\") as txt:\n",
    "    txt.write(pickle.dumps(val_imgs_normalized))"
   ]
  }
 ],
 "metadata": {
  "kernelspec": {
   "display_name": "Python 3",
   "language": "python",
   "name": "python3"
  },
  "language_info": {
   "codemirror_mode": {
    "name": "ipython",
    "version": 3
   },
   "file_extension": ".py",
   "mimetype": "text/x-python",
   "name": "python",
   "nbconvert_exporter": "python",
   "pygments_lexer": "ipython3",
   "version": "3.10.0"
  }
 },
 "nbformat": 4,
 "nbformat_minor": 2
}
